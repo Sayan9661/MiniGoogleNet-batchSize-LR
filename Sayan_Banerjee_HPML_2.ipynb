{
 "cells": [
  {
   "cell_type": "markdown",
   "id": "7cbfd566",
   "metadata": {},
   "source": [
    "# problem 2"
   ]
  },
  {
   "cell_type": "code",
   "execution_count": 1,
   "id": "e72a94bd",
   "metadata": {},
   "outputs": [
    {
     "name": "stderr",
     "output_type": "stream",
     "text": [
      "2022-11-04 22:31:44.483938: I tensorflow/core/platform/cpu_feature_guard.cc:193] This TensorFlow binary is optimized with oneAPI Deep Neural Network Library (oneDNN) to use the following CPU instructions in performance-critical operations:  AVX2 AVX512F AVX512_VNNI FMA\n",
      "To enable them in other operations, rebuild TensorFlow with the appropriate compiler flags.\n",
      "2022-11-04 22:31:44.677019: I tensorflow/core/util/util.cc:169] oneDNN custom operations are on. You may see slightly different numerical results due to floating-point round-off errors from different computation orders. To turn them off, set the environment variable `TF_ENABLE_ONEDNN_OPTS=0`.\n",
      "2022-11-04 22:31:44.711118: E tensorflow/stream_executor/cuda/cuda_blas.cc:2981] Unable to register cuBLAS factory: Attempting to register factory for plugin cuBLAS when one has already been registered\n",
      "2022-11-04 22:31:46.026890: W tensorflow/stream_executor/platform/default/dso_loader.cc:64] Could not load dynamic library 'libnvinfer.so.7'; dlerror: libnvinfer.so.7: cannot open shared object file: No such file or directory; LD_LIBRARY_PATH: /usr/local/nvidia/lib:/usr/local/nvidia/lib64:/.singularity.d/libs\n",
      "2022-11-04 22:31:46.027019: W tensorflow/stream_executor/platform/default/dso_loader.cc:64] Could not load dynamic library 'libnvinfer_plugin.so.7'; dlerror: libnvinfer_plugin.so.7: cannot open shared object file: No such file or directory; LD_LIBRARY_PATH: /usr/local/nvidia/lib:/usr/local/nvidia/lib64:/.singularity.d/libs\n",
      "2022-11-04 22:31:46.027029: W tensorflow/compiler/tf2tensorrt/utils/py_utils.cc:38] TF-TRT Warning: Cannot dlopen some TensorRT libraries. If you would like to use Nvidia GPU with TensorRT, please make sure the missing libraries mentioned above are installed properly.\n"
     ]
    }
   ],
   "source": [
    "from sklearn.preprocessing import LabelBinarizer\n",
    "from sklearn.metrics import classification_report\n",
    "from tensorflow.keras.preprocessing.image import ImageDataGenerator\n",
    "from tensorflow.keras.optimizers import SGD\n",
    "from tensorflow.keras.datasets import fashion_mnist\n",
    "from keras.datasets import mnist\n",
    "from keras.utils import np_utils\n",
    "from tensorflow.keras.layers import BatchNormalization\n",
    "from keras import layers\n",
    "from sklearn.model_selection import train_test_split\n",
    "import keras\n",
    "import matplotlib.pyplot as plt\n",
    "import numpy as np\n",
    "import pandas as pd\n",
    "import seaborn as sns\n",
    "from keras import initializers\n",
    "from keras.datasets import mnist\n",
    "import numpy as np\n",
    "import argparse\n",
    "import cv2\n",
    "import sys\n",
    "import tensorflow as tf"
   ]
  },
  {
   "cell_type": "code",
   "execution_count": 3,
   "id": "e760d047",
   "metadata": {},
   "outputs": [
    {
     "name": "stdout",
     "output_type": "stream",
     "text": [
      "2.10.0\n"
     ]
    }
   ],
   "source": [
    "import tensorflow\n",
    "print(tensorflow.__version__)"
   ]
  },
  {
   "cell_type": "markdown",
   "id": "db176ab2",
   "metadata": {},
   "source": [
    "1.Fix batch size to 64 and start with 10 candidate learning rates between  10−9  and  101  and train your model for 5 epochs. Plot the training loss as a function of learning rate. You should see a curve like Figure 3 in reference below. From that figure identify the values of  𝑙𝑟𝑚𝑖𝑛  and  𝑙𝑟𝑚𝑎𝑥 ."
   ]
  },
  {
   "cell_type": "code",
   "execution_count": 2,
   "id": "966832d0",
   "metadata": {},
   "outputs": [],
   "source": [
    "%run ./pyimagesearch/clr_callback.py\n",
    "%run ./pyimagesearch/learningratefinder.py\n",
    "%run ./pyimagesearch/minigooglenet.py\n",
    "%run ./pyimagesearch/config.py\n",
    "\n",
    "from sklearn.preprocessing import LabelBinarizer\n",
    "from sklearn.metrics import classification_report\n",
    "from tensorflow.keras.preprocessing.image import ImageDataGenerator\n",
    "from tensorflow.keras.optimizers import SGD\n",
    "from tensorflow.keras.datasets import fashion_mnist\n",
    "import matplotlib.pyplot as plt\n",
    "import numpy as np\n",
    "import argparse\n",
    "import cv2\n",
    "import sys"
   ]
  },
  {
   "cell_type": "code",
   "execution_count": 3,
   "id": "f6488346",
   "metadata": {},
   "outputs": [],
   "source": [
    "import sys\n",
    "sys.argv=['']\n",
    "del sys\n",
    "\n",
    "ap = argparse.ArgumentParser()\n",
    "ap.add_argument(\"-f\", \"--lr-find\", type=int, default=0,help=\"whether or not to find optimal learning rate\")\n",
    "args = vars(ap.parse_args())"
   ]
  },
  {
   "cell_type": "code",
   "execution_count": 4,
   "id": "0785e411",
   "metadata": {},
   "outputs": [
    {
     "name": "stdout",
     "output_type": "stream",
     "text": [
      "[INFO] loading Fashion MNIST data...\n"
     ]
    }
   ],
   "source": [
    "# load the training and testing data\n",
    "print(\"[INFO] loading Fashion MNIST data...\")\n",
    "((trainX, trainY), (testX, testY)) = fashion_mnist.load_data()\n",
    "# Fashion MNIST images are 28x28 but the network we will be training\n",
    "# is expecting 32x32 images\n",
    "trainX = np.array([cv2.resize(x, (32, 32)) for x in trainX])\n",
    "testX = np.array([cv2.resize(x, (32, 32)) for x in testX])\n",
    "# scale the pixel intensities to the range [0, 1]\n",
    "trainX = trainX.astype(\"float\") / 255.0\n",
    "testX = testX.astype(\"float\") / 255.0\n",
    "# reshape the data matrices to include a channel dimension (required\n",
    "# for training)\n",
    "trainX = trainX.reshape((trainX.shape[0], 32, 32, 1))\n",
    "testX = testX.reshape((testX.shape[0], 32, 32, 1))\n",
    "# convert the labels from integers to vectors\n",
    "lb = LabelBinarizer()\n",
    "trainY = lb.fit_transform(trainY)\n",
    "testY = lb.transform(testY)\n",
    "# construct the image generator for data augmentation\n",
    "aug = ImageDataGenerator(width_shift_range=0.1,height_shift_range=0.1, horizontal_flip=True,fill_mode=\"nearest\")"
   ]
  },
  {
   "cell_type": "code",
   "execution_count": 7,
   "id": "c7018b89",
   "metadata": {},
   "outputs": [
    {
     "name": "stdout",
     "output_type": "stream",
     "text": [
      "[INFO] compiling model...\n"
     ]
    },
    {
     "name": "stderr",
     "output_type": "stream",
     "text": [
      "/home/sb7594/.local/lib/python3.8/site-packages/keras/optimizers/optimizer_v2/gradient_descent.py:111: UserWarning: The `lr` argument is deprecated, use `learning_rate` instead.\n",
      "  super().__init__(name, **kwargs)\n",
      "2022-11-04 21:51:56.122212: I tensorflow/core/platform/cpu_feature_guard.cc:193] This TensorFlow binary is optimized with oneAPI Deep Neural Network Library (oneDNN) to use the following CPU instructions in performance-critical operations:  AVX2 AVX512F AVX512_VNNI FMA\n",
      "To enable them in other operations, rebuild TensorFlow with the appropriate compiler flags.\n",
      "2022-11-04 21:51:56.743566: I tensorflow/core/common_runtime/gpu/gpu_device.cc:1616] Created device /job:localhost/replica:0/task:0/device:GPU:0 with 30975 MB memory:  -> device: 0, name: Tesla V100-PCIE-32GB, pci bus id: 0000:d8:00.0, compute capability: 7.0\n"
     ]
    },
    {
     "name": "stdout",
     "output_type": "stream",
     "text": [
      "[INFO] training network...\n",
      "Epoch 1/5\n"
     ]
    },
    {
     "name": "stderr",
     "output_type": "stream",
     "text": [
      "2022-11-04 21:52:05.979891: I tensorflow/stream_executor/cuda/cuda_dnn.cc:384] Loaded cuDNN version 8204\n"
     ]
    },
    {
     "name": "stdout",
     "output_type": "stream",
     "text": [
      "937/937 [==============================] - 46s 24ms/step - loss: 2.8472 - accuracy: 0.1011 - val_loss: 2.6621 - val_accuracy: 0.1000\n",
      "Epoch 2/5\n",
      "937/937 [==============================] - 22s 23ms/step - loss: 2.7119 - accuracy: 0.1005 - val_loss: 2.6905 - val_accuracy: 0.1000\n",
      "Epoch 3/5\n",
      "937/937 [==============================] - 22s 23ms/step - loss: 2.7393 - accuracy: 0.0988 - val_loss: 2.7341 - val_accuracy: 0.1000\n",
      "Epoch 4/5\n",
      "937/937 [==============================] - 22s 23ms/step - loss: 2.7221 - accuracy: 0.0997 - val_loss: 2.7516 - val_accuracy: 0.1000\n",
      "Epoch 5/5\n",
      "937/937 [==============================] - 22s 23ms/step - loss: 2.7536 - accuracy: 0.0985 - val_loss: 2.9144 - val_accuracy: 0.1000\n",
      "[INFO] evaluating network...\n",
      "157/157 [==============================] - 1s 5ms/step\n",
      "              precision    recall  f1-score   support\n",
      "\n",
      "         top       0.00      0.00      0.00      1000\n",
      "     trouser       0.00      0.00      0.00      1000\n",
      "    pullover       0.00      0.00      0.00      1000\n",
      "       dress       0.00      0.00      0.00      1000\n",
      "        coat       0.00      0.00      0.00      1000\n",
      "      sandal       0.00      0.00      0.00      1000\n",
      "       shirt       0.00      0.00      0.00      1000\n",
      "     sneaker       0.10      1.00      0.18      1000\n",
      "         bag       0.00      0.00      0.00      1000\n",
      "  ankle boot       0.00      0.00      0.00      1000\n",
      "\n",
      "    accuracy                           0.10     10000\n",
      "   macro avg       0.01      0.10      0.02     10000\n",
      "weighted avg       0.01      0.10      0.02     10000\n",
      "\n"
     ]
    },
    {
     "name": "stderr",
     "output_type": "stream",
     "text": [
      "/usr/local/lib/python3.8/dist-packages/sklearn/metrics/_classification.py:1308: UndefinedMetricWarning: Precision and F-score are ill-defined and being set to 0.0 in labels with no predicted samples. Use `zero_division` parameter to control this behavior.\n",
      "  _warn_prf(average, modifier, msg_start, len(result))\n",
      "/usr/local/lib/python3.8/dist-packages/sklearn/metrics/_classification.py:1308: UndefinedMetricWarning: Precision and F-score are ill-defined and being set to 0.0 in labels with no predicted samples. Use `zero_division` parameter to control this behavior.\n",
      "  _warn_prf(average, modifier, msg_start, len(result))\n",
      "/usr/local/lib/python3.8/dist-packages/sklearn/metrics/_classification.py:1308: UndefinedMetricWarning: Precision and F-score are ill-defined and being set to 0.0 in labels with no predicted samples. Use `zero_division` parameter to control this behavior.\n",
      "  _warn_prf(average, modifier, msg_start, len(result))\n"
     ]
    }
   ],
   "source": [
    "# initialize the optimizer and model\n",
    "print(\"[INFO] compiling model...\")\n",
    "opt = SGD(lr=MIN_LR, momentum=0.9)\n",
    "model = MiniGoogLeNet.build(width=32, height=32, depth=1, classes=10)\n",
    "model.compile(loss=\"categorical_crossentropy\", optimizer=opt,metrics=[\"accuracy\"])\n",
    "\n",
    "\n",
    "stepSize = STEP_SIZE * (trainX.shape[0] // BATCH_SIZE)\n",
    "clr = CyclicLR(\n",
    "\tmode='triangular',\n",
    "\tbase_lr=1e-10,\n",
    "\tmax_lr=10,\n",
    "\tstep_size=10)\n",
    "# train the network\n",
    "print(\"[INFO] training network...\")\n",
    "H = model.fit(x=aug.flow(trainX, trainY, batch_size=BATCH_SIZE),\n",
    "              validation_data=(testX, testY),\n",
    "              steps_per_epoch=trainX.shape[0] // BATCH_SIZE,\n",
    "              epochs=5,\n",
    "              callbacks=[clr],\n",
    "              verbose=1)\n",
    "# evaluate the network and show a classification report\n",
    "print(\"[INFO] evaluating network...\")\n",
    "predictions = model.predict(x=testX, batch_size=BATCH_SIZE)\n",
    "print(classification_report(testY.argmax(axis=1),predictions.argmax(axis=1), target_names=CLASSES))"
   ]
  },
  {
   "cell_type": "code",
   "execution_count": 8,
   "id": "421c38af",
   "metadata": {},
   "outputs": [
    {
     "name": "stdout",
     "output_type": "stream",
     "text": [
      "Epoch 1/3\n",
      "938/938 [==============================] - 20s 21ms/step - loss: 7.1260 - accuracy: 0.1000\n",
      "Epoch 2/3\n",
      "938/938 [==============================] - 20s 22ms/step - loss: 7.0907 - accuracy: 0.1000\n",
      "Epoch 3/3\n",
      "938/938 [==============================] - 20s 21ms/step - loss: 3.3672 - accuracy: 0.0989\n"
     ]
    },
    {
     "data": {
      "image/png": "[encoded data removed]",
      "text/plain": [
       "<Figure size 432x288 with 1 Axes>"
      ]
     },
     "metadata": {
      "needs_background": "light"
     },
     "output_type": "display_data"
    }
   ],
   "source": [
    "lrf = LearningRateFinder(model)\n",
    "lrf.find(\n",
    "        aug.flow(trainX, trainY, batch_size=BATCH_SIZE),1e-10, 1e+1,stepsPerEpoch=np.ceil((len(trainX) / float(BATCH_SIZE))),\n",
    "        batchSize=BATCH_SIZE)\n",
    "\n",
    "\t# plot the loss for the various learning rates and save the\n",
    "\t# resulting plot to disk\n",
    "lrf.plot_loss()"
   ]
  },
  {
   "cell_type": "markdown",
   "id": "d24d8dd4",
   "metadata": {},
   "source": [
    "2.Use the cyclical learning rate policy (with exponential decay) and train your network using batch size 64 and  𝑙𝑟𝑚𝑖𝑛  and  𝑙𝑟𝑚𝑎𝑥  values obtained in part 1. Plot train/validation loss and accuracy curve (similar to Figure 4 in reference)."
   ]
  },
  {
   "cell_type": "code",
   "execution_count": 9,
   "id": "7c03547f",
   "metadata": {},
   "outputs": [
    {
     "name": "stdout",
     "output_type": "stream",
     "text": [
      "[INFO] compiling model...\n"
     ]
    },
    {
     "name": "stderr",
     "output_type": "stream",
     "text": [
      "/home/sb7594/.local/lib/python3.8/site-packages/keras/optimizers/optimizer_v2/gradient_descent.py:111: UserWarning: The `lr` argument is deprecated, use `learning_rate` instead.\n",
      "  super().__init__(name, **kwargs)\n"
     ]
    },
    {
     "name": "stdout",
     "output_type": "stream",
     "text": [
      "[INFO] training network...\n",
      "Epoch 1/5\n",
      "937/937 [==============================] - 23s 23ms/step - loss: 1.0440 - accuracy: 0.6327 - val_loss: 0.6084 - val_accuracy: 0.7873\n",
      "Epoch 2/5\n",
      "937/937 [==============================] - 21s 23ms/step - loss: 0.6232 - accuracy: 0.7754 - val_loss: 0.5568 - val_accuracy: 0.8007\n",
      "Epoch 3/5\n",
      "937/937 [==============================] - 21s 23ms/step - loss: 0.5309 - accuracy: 0.8092 - val_loss: 0.4599 - val_accuracy: 0.8361\n",
      "Epoch 4/5\n",
      "937/937 [==============================] - 21s 22ms/step - loss: 0.4780 - accuracy: 0.8289 - val_loss: 0.4426 - val_accuracy: 0.8311\n",
      "Epoch 5/5\n",
      "937/937 [==============================] - 21s 22ms/step - loss: 0.4411 - accuracy: 0.8427 - val_loss: 0.4254 - val_accuracy: 0.8459\n",
      "[INFO] evaluating network...\n",
      "157/157 [==============================] - 1s 5ms/step\n",
      "              precision    recall  f1-score   support\n",
      "\n",
      "         top       0.81      0.83      0.82      1000\n",
      "     trouser       1.00      0.95      0.98      1000\n",
      "    pullover       0.94      0.56      0.70      1000\n",
      "       dress       0.84      0.86      0.85      1000\n",
      "        coat       0.73      0.78      0.76      1000\n",
      "      sandal       0.94      0.95      0.95      1000\n",
      "       shirt       0.51      0.69      0.58      1000\n",
      "     sneaker       0.91      0.96      0.93      1000\n",
      "         bag       0.99      0.94      0.97      1000\n",
      "  ankle boot       0.97      0.94      0.95      1000\n",
      "\n",
      "    accuracy                           0.85     10000\n",
      "   macro avg       0.86      0.85      0.85     10000\n",
      "weighted avg       0.86      0.85      0.85     10000\n",
      "\n"
     ]
    }
   ],
   "source": [
    "MIN_LR = 1e-9\n",
    "MAX_LR = 1e-3\n",
    "\n",
    "\n",
    "# initialize the optimizer and model\n",
    "print(\"[INFO] compiling model...\")\n",
    "opt = SGD(lr=MIN_LR, momentum=0.9)\n",
    "model = MiniGoogLeNet.build(width=32, height=32, depth=1, classes=10)\n",
    "model.compile(loss=\"categorical_crossentropy\", optimizer=opt,\n",
    "\tmetrics=[\"accuracy\"])\n",
    "\n",
    "\n",
    "stepSize = STEP_SIZE * (trainX.shape[0] // BATCH_SIZE)\n",
    "clr = CyclicLR(\n",
    "\tmode='triangular',\n",
    "\tbase_lr=MIN_LR,\n",
    "\tmax_lr=MAX_LR,\n",
    "\tstep_size=STEP_SIZE)\n",
    "# train the network\n",
    "print(\"[INFO] training network...\")\n",
    "H = model.fit(\n",
    "\tx=aug.flow(trainX, trainY, batch_size=BATCH_SIZE),\n",
    "\tvalidation_data=(testX, testY),\n",
    "\tsteps_per_epoch=trainX.shape[0] // BATCH_SIZE,\n",
    "\tepochs=5,\n",
    "\tcallbacks=[clr],\n",
    "\tverbose=1)\n",
    "# evaluate the network and show a classification report\n",
    "print(\"[INFO] evaluating network...\")\n",
    "predictions = model.predict(x=testX, batch_size=BATCH_SIZE)\n",
    "print(classification_report(testY.argmax(axis=1),\n",
    "\tpredictions.argmax(axis=1), target_names=CLASSES))"
   ]
  },
  {
   "cell_type": "code",
   "execution_count": 11,
   "id": "fcf482ee",
   "metadata": {},
   "outputs": [
    {
     "data": {
      "image/png": "[encoded data removed]",
      "text/plain": [
       "<Figure size 432x288 with 1 Axes>"
      ]
     },
     "metadata": {
      "needs_background": "light"
     },
     "output_type": "display_data"
    }
   ],
   "source": [
    "plt.plot(list(range(0, 5)), H.history[\"loss\"],label='trainingloss')\n",
    "plt.plot(list(range(0, 5)), H.history[\"val_loss\"],label='validationloss')\n",
    "plt.legend()\n",
    "plt.title(\"Loss Plot\")\n",
    "plt.xlabel(\"epochs\")\n",
    "plt.ylabel(\"Loss\")\n",
    "\n",
    "plt.show()"
   ]
  },
  {
   "cell_type": "code",
   "execution_count": 12,
   "id": "699f3f07",
   "metadata": {},
   "outputs": [
    {
     "data": {
      "image/png": "[encoded data removed]",
      "text/plain": [
       "<Figure size 432x288 with 1 Axes>"
      ]
     },
     "metadata": {
      "needs_background": "light"
     },
     "output_type": "display_data"
    }
   ],
   "source": [
    "plt.plot(list(range(0, 5)), H.history[\"val_accuracy\"],label=\"val accuracy\")\n",
    "plt.plot(list(range(0, 5)), H.history[\"accuracy\"],label=\"train accuracy\")\n",
    "plt.legend()\n",
    "plt.title(\"Accuracy\")\n",
    "plt.xlabel(\"epochs\")\n",
    "plt.ylabel(\"Accuracy\")\n",
    "\n",
    "plt.show()"
   ]
  },
  {
   "cell_type": "markdown",
   "id": "6075421b",
   "metadata": {},
   "source": [
    "3. We want to test if increasing batch size for a fixed learning rate has the same effect as decreasing\n",
    "learning rate for fixed batch size. Fix learning rate to lrmax and train your network starting with batch\n",
    "size 32 and incrementally going up to 16384 (in increments of a factor of 2; like 32, 64...). You can\n",
    "choose a step size (in terms of the number of iterations) to increment the batch size. If your GPU\n",
    "cannot handle large batch sizes, you need to employ an effective batch size approach as discussed in\n",
    "Lecture 3 to simulate large batches. Plot the training loss. Is the generalization of your final model\n",
    "similar or different from than cyclical learning rate policy?"
   ]
  },
  {
   "cell_type": "markdown",
   "id": "7cd87ac6",
   "metadata": {},
   "source": [
    "Ans:<br>\n",
    "We can see that the validation accuracy is better and hence the generalization is better"
   ]
  },
  {
   "cell_type": "code",
   "execution_count": 16,
   "id": "f360c5df",
   "metadata": {},
   "outputs": [
    {
     "name": "stdout",
     "output_type": "stream",
     "text": [
      "[INFO] training network...\n",
      "batch size is 32\n",
      "Epoch 1/5\n",
      "1875/1875 [==============================] - 28s 15ms/step - loss: 0.4008 - accuracy: 0.8565 - val_loss: 0.4848 - val_accuracy: 0.8227\n",
      "Epoch 2/5\n",
      "1875/1875 [==============================] - 28s 15ms/step - loss: 0.3568 - accuracy: 0.8728 - val_loss: 0.4853 - val_accuracy: 0.8306\n",
      "Epoch 3/5\n",
      "1875/1875 [==============================] - 28s 15ms/step - loss: 0.3267 - accuracy: 0.8834 - val_loss: 0.3245 - val_accuracy: 0.8786\n",
      "Epoch 4/5\n",
      "1875/1875 [==============================] - 28s 15ms/step - loss: 0.3080 - accuracy: 0.8899 - val_loss: 0.3132 - val_accuracy: 0.8904\n",
      "Epoch 5/5\n",
      "1875/1875 [==============================] - 28s 15ms/step - loss: 0.2917 - accuracy: 0.8968 - val_loss: 0.3093 - val_accuracy: 0.8875\n",
      "[INFO] evaluating network...\n",
      "313/313 [==============================] - 1s 3ms/step\n",
      "              precision    recall  f1-score   support\n",
      "\n",
      "         top       0.88      0.81      0.84      1000\n",
      "     trouser       1.00      0.97      0.98      1000\n",
      "    pullover       0.84      0.86      0.85      1000\n",
      "       dress       0.87      0.91      0.89      1000\n",
      "        coat       0.94      0.65      0.77      1000\n",
      "      sandal       0.94      0.98      0.96      1000\n",
      "       shirt       0.62      0.83      0.71      1000\n",
      "     sneaker       0.93      0.96      0.94      1000\n",
      "         bag       0.98      0.98      0.98      1000\n",
      "  ankle boot       0.99      0.92      0.96      1000\n",
      "\n",
      "    accuracy                           0.89     10000\n",
      "   macro avg       0.90      0.89      0.89     10000\n",
      "weighted avg       0.90      0.89      0.89     10000\n",
      "\n",
      "[INFO] training network...\n",
      "batch size is 64\n",
      "Epoch 1/5\n",
      "937/937 [==============================] - 21s 23ms/step - loss: 0.2520 - accuracy: 0.9110 - val_loss: 0.2711 - val_accuracy: 0.9049\n",
      "Epoch 2/5\n",
      "937/937 [==============================] - 21s 23ms/step - loss: 0.2452 - accuracy: 0.9125 - val_loss: 0.2539 - val_accuracy: 0.9110\n",
      "Epoch 3/5\n",
      "937/937 [==============================] - 21s 22ms/step - loss: 0.2372 - accuracy: 0.9152 - val_loss: 0.2440 - val_accuracy: 0.9107\n",
      "Epoch 4/5\n",
      "937/937 [==============================] - 22s 23ms/step - loss: 0.2340 - accuracy: 0.9163 - val_loss: 0.2540 - val_accuracy: 0.9097\n",
      "Epoch 5/5\n",
      "937/937 [==============================] - 21s 23ms/step - loss: 0.2302 - accuracy: 0.9183 - val_loss: 0.2418 - val_accuracy: 0.9136\n",
      "[INFO] evaluating network...\n",
      "157/157 [==============================] - 1s 5ms/step\n",
      "              precision    recall  f1-score   support\n",
      "\n",
      "         top       0.90      0.82      0.86      1000\n",
      "     trouser       0.99      0.98      0.99      1000\n",
      "    pullover       0.89      0.89      0.89      1000\n",
      "       dress       0.88      0.93      0.91      1000\n",
      "        coat       0.87      0.88      0.87      1000\n",
      "      sandal       0.95      0.99      0.97      1000\n",
      "       shirt       0.74      0.78      0.76      1000\n",
      "     sneaker       0.96      0.94      0.95      1000\n",
      "         bag       0.99      0.97      0.98      1000\n",
      "  ankle boot       0.97      0.95      0.96      1000\n",
      "\n",
      "    accuracy                           0.91     10000\n",
      "   macro avg       0.91      0.91      0.91     10000\n",
      "weighted avg       0.91      0.91      0.91     10000\n",
      "\n",
      "[INFO] training network...\n",
      "batch size is 128\n",
      "Epoch 1/5\n",
      "468/468 [==============================] - 19s 39ms/step - loss: 0.2106 - accuracy: 0.9243 - val_loss: 0.2312 - val_accuracy: 0.9200\n",
      "Epoch 2/5\n",
      "468/468 [==============================] - 18s 38ms/step - loss: 0.2083 - accuracy: 0.9247 - val_loss: 0.2173 - val_accuracy: 0.9211\n",
      "Epoch 3/5\n",
      "468/468 [==============================] - 18s 38ms/step - loss: 0.2021 - accuracy: 0.9276 - val_loss: 0.2276 - val_accuracy: 0.9164\n",
      "Epoch 4/5\n",
      "468/468 [==============================] - 18s 38ms/step - loss: 0.2021 - accuracy: 0.9282 - val_loss: 0.2175 - val_accuracy: 0.9232\n",
      "Epoch 5/5\n",
      "468/468 [==============================] - 18s 38ms/step - loss: 0.1991 - accuracy: 0.9284 - val_loss: 0.2190 - val_accuracy: 0.9221\n",
      "[INFO] evaluating network...\n",
      "79/79 [==============================] - 1s 8ms/step\n",
      "              precision    recall  f1-score   support\n",
      "\n",
      "         top       0.92      0.82      0.87      1000\n",
      "     trouser       0.99      0.99      0.99      1000\n",
      "    pullover       0.90      0.90      0.90      1000\n",
      "       dress       0.92      0.91      0.91      1000\n",
      "        coat       0.91      0.87      0.89      1000\n",
      "      sandal       0.97      0.98      0.98      1000\n",
      "       shirt       0.73      0.85      0.78      1000\n",
      "     sneaker       0.95      0.97      0.96      1000\n",
      "         bag       0.99      0.99      0.99      1000\n",
      "  ankle boot       0.98      0.95      0.97      1000\n",
      "\n",
      "    accuracy                           0.92     10000\n",
      "   macro avg       0.93      0.92      0.92     10000\n",
      "weighted avg       0.93      0.92      0.92     10000\n",
      "\n",
      "[INFO] training network...\n",
      "batch size is 256\n",
      "Epoch 1/5\n",
      "234/234 [==============================] - 17s 67ms/step - loss: 0.1913 - accuracy: 0.9329 - val_loss: 0.2191 - val_accuracy: 0.9200\n",
      "Epoch 2/5\n",
      "234/234 [==============================] - 15s 66ms/step - loss: 0.1894 - accuracy: 0.9331 - val_loss: 0.2116 - val_accuracy: 0.9244\n",
      "Epoch 3/5\n",
      "234/234 [==============================] - 15s 66ms/step - loss: 0.1860 - accuracy: 0.9331 - val_loss: 0.2491 - val_accuracy: 0.9074\n",
      "Epoch 4/5\n",
      "234/234 [==============================] - 15s 65ms/step - loss: 0.1854 - accuracy: 0.9339 - val_loss: 0.2149 - val_accuracy: 0.9234\n",
      "Epoch 5/5\n",
      "234/234 [==============================] - 16s 67ms/step - loss: 0.1845 - accuracy: 0.9341 - val_loss: 0.2113 - val_accuracy: 0.9240\n",
      "[INFO] evaluating network...\n",
      "40/40 [==============================] - 1s 13ms/step\n",
      "              precision    recall  f1-score   support\n",
      "\n",
      "         top       0.91      0.83      0.87      1000\n",
      "     trouser       0.99      0.99      0.99      1000\n",
      "    pullover       0.92      0.89      0.90      1000\n",
      "       dress       0.90      0.93      0.92      1000\n",
      "        coat       0.89      0.90      0.90      1000\n",
      "      sandal       0.98      0.98      0.98      1000\n",
      "       shirt       0.76      0.81      0.78      1000\n",
      "     sneaker       0.94      0.98      0.96      1000\n",
      "         bag       0.99      0.99      0.99      1000\n",
      "  ankle boot       0.98      0.95      0.97      1000\n",
      "\n",
      "    accuracy                           0.92     10000\n",
      "   macro avg       0.93      0.92      0.92     10000\n",
      "weighted avg       0.93      0.92      0.92     10000\n",
      "\n",
      "[INFO] training network...\n",
      "batch size is 512\n",
      "Epoch 1/5\n",
      "117/117 [==============================] - 15s 116ms/step - loss: 0.1799 - accuracy: 0.9358 - val_loss: 0.2034 - val_accuracy: 0.9264\n",
      "Epoch 2/5\n",
      "117/117 [==============================] - 14s 118ms/step - loss: 0.1768 - accuracy: 0.9368 - val_loss: 0.2039 - val_accuracy: 0.9275\n",
      "Epoch 3/5\n",
      "117/117 [==============================] - 14s 116ms/step - loss: 0.1769 - accuracy: 0.9373 - val_loss: 0.2013 - val_accuracy: 0.9282\n",
      "Epoch 4/5\n",
      "117/117 [==============================] - 14s 115ms/step - loss: 0.1751 - accuracy: 0.9386 - val_loss: 0.2083 - val_accuracy: 0.9241\n",
      "Epoch 5/5\n",
      "117/117 [==============================] - 14s 116ms/step - loss: 0.1741 - accuracy: 0.9374 - val_loss: 0.2038 - val_accuracy: 0.9277\n",
      "[INFO] evaluating network...\n",
      "20/20 [==============================] - 1s 44ms/step\n",
      "              precision    recall  f1-score   support\n",
      "\n",
      "         top       0.89      0.87      0.88      1000\n",
      "     trouser       0.99      0.99      0.99      1000\n",
      "    pullover       0.91      0.90      0.90      1000\n",
      "       dress       0.92      0.93      0.92      1000\n",
      "        coat       0.91      0.88      0.90      1000\n",
      "      sandal       0.98      0.98      0.98      1000\n",
      "       shirt       0.77      0.82      0.79      1000\n",
      "     sneaker       0.94      0.97      0.96      1000\n",
      "         bag       0.99      0.99      0.99      1000\n",
      "  ankle boot       0.98      0.95      0.97      1000\n",
      "\n",
      "    accuracy                           0.93     10000\n",
      "   macro avg       0.93      0.93      0.93     10000\n",
      "weighted avg       0.93      0.93      0.93     10000\n",
      "\n",
      "[INFO] training network...\n",
      "batch size is 1024\n",
      "Epoch 1/5\n",
      " 6/58 [==>...........................] - ETA: 10s - loss: 0.1682 - accuracy: 0.9396WARNING:tensorflow:Callback method `on_train_batch_end` is slow compared to the batch time (batch time: 0.0807s vs `on_train_batch_end` time: 0.0993s). Check your callbacks.\n",
      "58/58 [==============================] - 17s 247ms/step - loss: 0.1712 - accuracy: 0.9400 - val_loss: 0.2035 - val_accuracy: 0.9267\n",
      "Epoch 2/5\n",
      "58/58 [==============================] - 13s 217ms/step - loss: 0.1709 - accuracy: 0.9379 - val_loss: 0.2008 - val_accuracy: 0.9285\n",
      "Epoch 3/5\n",
      "58/58 [==============================] - 13s 219ms/step - loss: 0.1708 - accuracy: 0.9390 - val_loss: 0.2041 - val_accuracy: 0.9271\n",
      "Epoch 4/5\n",
      "58/58 [==============================] - 13s 217ms/step - loss: 0.1688 - accuracy: 0.9402 - val_loss: 0.2020 - val_accuracy: 0.9274\n",
      "Epoch 5/5\n",
      "58/58 [==============================] - 13s 218ms/step - loss: 0.1703 - accuracy: 0.9394 - val_loss: 0.2013 - val_accuracy: 0.9273\n",
      "[INFO] evaluating network...\n",
      "10/10 [==============================] - 1s 150ms/step\n",
      "              precision    recall  f1-score   support\n",
      "\n",
      "         top       0.91      0.84      0.87      1000\n",
      "     trouser       0.99      0.99      0.99      1000\n",
      "    pullover       0.93      0.88      0.90      1000\n",
      "       dress       0.92      0.93      0.93      1000\n",
      "        coat       0.88      0.91      0.90      1000\n",
      "      sandal       0.98      0.98      0.98      1000\n",
      "       shirt       0.76      0.82      0.79      1000\n",
      "     sneaker       0.95      0.97      0.96      1000\n",
      "         bag       0.99      0.99      0.99      1000\n",
      "  ankle boot       0.98      0.95      0.97      1000\n",
      "\n",
      "    accuracy                           0.93     10000\n",
      "   macro avg       0.93      0.93      0.93     10000\n",
      "weighted avg       0.93      0.93      0.93     10000\n",
      "\n",
      "[INFO] training network...\n",
      "batch size is 2048\n",
      "Epoch 1/5\n",
      " 6/29 [=====>........................] - ETA: 8s - loss: 0.1649 - accuracy: 0.9400WARNING:tensorflow:Callback method `on_train_batch_end` is slow compared to the batch time (batch time: 0.1341s vs `on_train_batch_end` time: 0.2076s). Check your callbacks.\n",
      "29/29 [==============================] - 18s 434ms/step - loss: 0.1689 - accuracy: 0.9392 - val_loss: 0.2007 - val_accuracy: 0.9284\n",
      "Epoch 2/5\n",
      "29/29 [==============================] - 13s 433ms/step - loss: 0.1692 - accuracy: 0.9395 - val_loss: 0.2004 - val_accuracy: 0.9283\n",
      "Epoch 3/5\n",
      "29/29 [==============================] - 13s 429ms/step - loss: 0.1687 - accuracy: 0.9400 - val_loss: 0.2008 - val_accuracy: 0.9289\n",
      "Epoch 4/5\n",
      "29/29 [==============================] - 13s 428ms/step - loss: 0.1680 - accuracy: 0.9407 - val_loss: 0.2001 - val_accuracy: 0.9278\n",
      "Epoch 5/5\n",
      "29/29 [==============================] - 13s 430ms/step - loss: 0.1668 - accuracy: 0.9410 - val_loss: 0.1996 - val_accuracy: 0.9284\n",
      "[INFO] evaluating network...\n",
      "5/5 [==============================] - 2s 611ms/step\n",
      "              precision    recall  f1-score   support\n",
      "\n",
      "         top       0.89      0.88      0.88      1000\n",
      "     trouser       0.99      0.99      0.99      1000\n",
      "    pullover       0.91      0.89      0.90      1000\n",
      "       dress       0.92      0.93      0.92      1000\n",
      "        coat       0.89      0.91      0.90      1000\n",
      "      sandal       0.98      0.98      0.98      1000\n",
      "       shirt       0.79      0.80      0.80      1000\n",
      "     sneaker       0.94      0.97      0.96      1000\n",
      "         bag       0.99      0.99      0.99      1000\n",
      "  ankle boot       0.98      0.95      0.97      1000\n",
      "\n",
      "    accuracy                           0.93     10000\n",
      "   macro avg       0.93      0.93      0.93     10000\n",
      "weighted avg       0.93      0.93      0.93     10000\n",
      "\n",
      "[INFO] training network...\n",
      "batch size is 4096\n",
      "Epoch 1/5\n",
      " 6/14 [===========>..................] - ETA: 6s - loss: 0.1686 - accuracy: 0.9392WARNING:tensorflow:Callback method `on_train_batch_end` is slow compared to the batch time (batch time: 0.2503s vs `on_train_batch_end` time: 0.5105s). Check your callbacks.\n",
      "14/14 [==============================] - 13s 863ms/step - loss: 0.1676 - accuracy: 0.9400 - val_loss: 0.1985 - val_accuracy: 0.9299\n",
      "Epoch 2/5\n",
      "14/14 [==============================] - 12s 881ms/step - loss: 0.1658 - accuracy: 0.9414 - val_loss: 0.1996 - val_accuracy: 0.9289\n",
      "Epoch 3/5\n",
      "14/14 [==============================] - 13s 855ms/step - loss: 0.1663 - accuracy: 0.9410 - val_loss: 0.2000 - val_accuracy: 0.9281\n",
      "Epoch 4/5\n",
      "14/14 [==============================] - 13s 853ms/step - loss: 0.1671 - accuracy: 0.9403 - val_loss: 0.1990 - val_accuracy: 0.9288\n",
      "Epoch 5/5\n",
      "14/14 [==============================] - 12s 883ms/step - loss: 0.1648 - accuracy: 0.9413 - val_loss: 0.1988 - val_accuracy: 0.9290\n",
      "[INFO] evaluating network...\n",
      "3/3 [==============================] - 0s 185ms/step\n",
      "              precision    recall  f1-score   support\n",
      "\n",
      "         top       0.88      0.88      0.88      1000\n",
      "     trouser       0.99      0.99      0.99      1000\n",
      "    pullover       0.91      0.90      0.90      1000\n",
      "       dress       0.93      0.93      0.93      1000\n",
      "        coat       0.90      0.90      0.90      1000\n",
      "      sandal       0.98      0.98      0.98      1000\n",
      "       shirt       0.79      0.80      0.80      1000\n",
      "     sneaker       0.94      0.97      0.96      1000\n",
      "         bag       0.99      0.99      0.99      1000\n",
      "  ankle boot       0.98      0.95      0.97      1000\n",
      "\n",
      "    accuracy                           0.93     10000\n",
      "   macro avg       0.93      0.93      0.93     10000\n",
      "weighted avg       0.93      0.93      0.93     10000\n",
      "\n"
     ]
    }
   ],
   "source": [
    "losses = []\n",
    "\n",
    "for batch_size in [32,64,128,256,512,1024,2048,4096,8192,16384]:\n",
    "    clr = CyclicLR(\n",
    "    mode='triangular',\n",
    "    base_lr=1e-3,\n",
    "    max_lr=1e-3,\n",
    "    step_size=(trainX.shape[0] // batch_size))\n",
    "    print(\"[INFO] training network...\")\n",
    "    print(f\"batch size is {batch_size}\")\n",
    "    H = model.fit(\n",
    "    x=aug.flow(trainX, trainY, batch_size=batch_size),\n",
    "    validation_data=(testX, testY),\n",
    "    steps_per_epoch=trainX.shape[0] // batch_size,\n",
    "    epochs=5,\n",
    "    callbacks=[clr],\n",
    "    verbose=1)\n",
    "    \n",
    "    losses.append(H.history[\"loss\"][4])\n",
    "    print(\"[INFO] evaluating network...\")\n",
    "    \n",
    "    predictions = model.predict(x=testX, batch_size=batch_size)\n",
    "    print(classification_report(testY.argmax(axis=1),\n",
    "    predictions.argmax(axis=1), target_names=CLASSES))"
   ]
  },
  {
   "cell_type": "code",
   "execution_count": 17,
   "id": "a118785d",
   "metadata": {},
   "outputs": [
    {
     "data": {
      "image/png": "[encoded data removed]",
      "text/plain": [
       "<Figure size 432x288 with 1 Axes>"
      ]
     },
     "metadata": {
      "needs_background": "light"
     },
     "output_type": "display_data"
    }
   ],
   "source": [
    "plt.plot([32,64,128,256,512,1024,2048,4096,8192,16384], losses)\n",
    "plt.xlabel('Batch Size')\n",
    "plt.ylabel('Loss')\n",
    "plt.grid()"
   ]
  }
 ],
 "metadata": {
  "kernelspec": {
   "display_name": "Python 3.8.8 ('base')",
   "language": "python",
   "name": "python3"
  },
  "language_info": {
   "codemirror_mode": {
    "name": "ipython",
    "version": 3
   },
   "file_extension": ".py",
   "mimetype": "text/x-python",
   "name": "python",
   "nbconvert_exporter": "python",
   "pygments_lexer": "ipython3",
   "version": "3.8.8"
  },
  "vscode": {
   "interpreter": {
    "hash": "ad2bdc8ecc057115af97d19610ffacc2b4e99fae6737bb82f5d7fb13d2f2c186"
   }
  }
 },
 "nbformat": 4,
 "nbformat_minor": 5
}
